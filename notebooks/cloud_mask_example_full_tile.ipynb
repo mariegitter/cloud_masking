{
 "cells": [
  {
   "cell_type": "code",
   "execution_count": 1,
   "metadata": {},
   "outputs": [
    {
     "name": "stderr",
     "output_type": "stream",
     "text": [
      "/home/mlla/projects/cloud_removal/.venv/lib/python3.10/site-packages/tqdm/auto.py:21: TqdmWarning: IProgress not found. Please update jupyter and ipywidgets. See https://ipywidgets.readthedocs.io/en/stable/user_install.html\n",
      "  from .autonotebook import tqdm as notebook_tqdm\n"
     ]
    }
   ],
   "source": [
    "import numpy as np\n",
    "import matplotlib.pyplot as plt\n",
    "import rasterio\n",
    "from pystac_client import Client\n",
    "import stackstac\n",
    "import rioxarray\n",
    "from omnicloudmask import predict_from_array"
   ]
  },
  {
   "cell_type": "code",
   "execution_count": 4,
   "metadata": {},
   "outputs": [],
   "source": [
    "def download_tile_and_sc2l(date, tile, catalog_url, collection):\n",
    "    # Connect to STAC API\n",
    "    catalog = Client.open(catalog_url)\n",
    "\n",
    "    # Search for the Sentinel-2 tile on the specified date\n",
    "    search = catalog.search(\n",
    "        collections=[collection],\n",
    "        datetime=date,  \n",
    "        query={\n",
    "            \"mgrs:utm_zone\": {\"eq\": tile[:2]},\n",
    "            \"mgrs:latitude_band\": {\"eq\":  tile[2:3]},\n",
    "            \"mgrs:grid_square\": {\"eq\":  tile[3:5]}\n",
    "        },\n",
    "        #bbox=bbox,\n",
    "        limit=10\n",
    "    )\n",
    "    # Get the first item from the search results\n",
    "    items = list(search.items())\n",
    "    if not items:\n",
    "        raise ValueError(\"No items found for the specified tile and date.\")\n",
    "    \n",
    "    item = items[0]\n",
    "    # Get asset URLs\n",
    "    assets = item.assets\n",
    "    red_url = assets[\"red\"].href\n",
    "    green_url = assets[\"green\"].href\n",
    "    blue_url = assets[\"blue\"].href\n",
    "    nir_url = assets[\"nir\"].href\n",
    "    scl_url = assets[\"scl\"].href\n",
    "\n",
    "    # Open the bands using rasterio\n",
    "    with rasterio.open(red_url) as red_src, \\\n",
    "         rasterio.open(green_url) as green_src, \\\n",
    "         rasterio.open(blue_url) as blue_src, \\\n",
    "         rasterio.open(nir_url) as nir_src:\n",
    "        # Prepare output GeoTIFFs\n",
    "        profile = red_src.profile\n",
    "        profile.update(dtype=\"float32\", count=3, compress=\"lzw\")\n",
    "        \n",
    "        with rasterio.open(f\"{tile}_rgbn.tif\", \"w\", **profile) as dst:\n",
    "            red_chunk = red_src.read(1)\n",
    "            green_chunk = green_src.read(1)\n",
    "            blue_chunk = blue_src.read(1)\n",
    "            nir_chunk = nir_src.read(1)\n",
    "            rgb_nir = np.stack([\n",
    "                red_chunk,\n",
    "                green_chunk,\n",
    "                blue_chunk,\n",
    "                nir_chunk,\n",
    "            ])\n",
    "            dst.write(rgb_nir.astype(\"float32\"))\n",
    "    #scl = xda_data.sel(band=\"scl\")\n",
    "    #scl.median(dim=\"time\", skipna=True).rio.to_raster(f\"{tile}_scl.tif\")\n",
    "    #rgb.median(dim=\"time\", skipna=True).rio.to_raster(f\"{tile}_rgb.tif\")"
   ]
  },
  {
   "cell_type": "code",
   "execution_count": 7,
   "metadata": {},
   "outputs": [],
   "source": [
    "# Define parameters\n",
    "catalog_url = \"https://earth-search.aws.element84.com/v1\"\n",
    "collection = \"sentinel-2-l2a\"\n",
    "tile = \"26XPF\"\n",
    "date = \"2024-08-26\""
   ]
  },
  {
   "cell_type": "code",
   "execution_count": 11,
   "metadata": {},
   "outputs": [],
   "source": [
    "def download_tile_and_scl(date, tile, catalog_url, collection):\n",
    "    # Connect to STAC API\n",
    "    catalog = Client.open(catalog_url)\n",
    "\n",
    "    # Search for the Sentinel-2 tile on the specified date\n",
    "    search = catalog.search(\n",
    "        collections=[collection],\n",
    "        datetime=date,  \n",
    "        query={\n",
    "            \"mgrs:utm_zone\": {\"eq\": tile[:2]},\n",
    "            \"mgrs:latitude_band\": {\"eq\":  tile[2:3]},\n",
    "            \"mgrs:grid_square\": {\"eq\":  tile[3:5]}\n",
    "        },\n",
    "        #bbox=bbox,\n",
    "        limit=10\n",
    "    )\n",
    "    # Get the first item from the search results\n",
    "    items = list(search.items())\n",
    "    if not items:\n",
    "        raise ValueError(\"No items found for the specified tile and date.\")\n",
    "    \n",
    "    xda_data = stackstac.stack(\n",
    "        items,\n",
    "        rescale=False,\n",
    "        epsg=4326\n",
    "    )\n",
    "\n",
    "    # Select RGB and SCL bands\n",
    "    rgb = xda_data.sel(band=[\"red\", \"green\", \"blue\", \"nir\"])\n",
    "    scl = xda_data.sel(band=\"scl\")\n",
    "\n",
    "    # Median composite and reproject to EPSG:4326 if not already\n",
    "    rgb_median = rgb.median(dim=\"time\", skipna=True)\n",
    "\n",
    "    # Filter SCL to only keep values 3, 8, 9, 10\n",
    "    scl_filtered = scl.where(scl.isin([3, 8, 9, 10]))\n",
    "    scl_max = scl_filtered.max(dim=\"time\", skipna=True)\n",
    "\n",
    "    # Ensure the data is in EPSG:4326\n",
    "    rgb_median = rgb_median.rio.write_crs(4326, inplace=True)\n",
    "    scl_max = scl_max.rio.write_crs(4326, inplace=True)\n",
    "\n",
    "    # Save to GeoTIFF in EPSG:4326\n",
    "    scl_max.rio.to_raster(f\"{tile}_scl.tif\")\n",
    "    rgb_median.rio.to_raster(f\"{tile}_rgb.tif\")\n"
   ]
  },
  {
   "cell_type": "code",
   "execution_count": 10,
   "metadata": {},
   "outputs": [],
   "source": [
    "download_tile_and_scl(date, tile, catalog_url, collection)"
   ]
  },
  {
   "cell_type": "code",
   "execution_count": null,
   "metadata": {},
   "outputs": [],
   "source": []
  }
 ],
 "metadata": {
  "kernelspec": {
   "display_name": ".venv",
   "language": "python",
   "name": "python3"
  },
  "language_info": {
   "codemirror_mode": {
    "name": "ipython",
    "version": 3
   },
   "file_extension": ".py",
   "mimetype": "text/x-python",
   "name": "python",
   "nbconvert_exporter": "python",
   "pygments_lexer": "ipython3",
   "version": "3.10.12"
  }
 },
 "nbformat": 4,
 "nbformat_minor": 2
}
